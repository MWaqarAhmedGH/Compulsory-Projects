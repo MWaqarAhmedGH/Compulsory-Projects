{
  "nbformat": 4,
  "nbformat_minor": 0,
  "metadata": {
    "colab": {
      "provenance": [],
      "authorship_tag": "ABX9TyPLZ0uxflGOiIBMOzGPns38",
      "include_colab_link": true
    },
    "kernelspec": {
      "name": "python3",
      "display_name": "Python 3"
    },
    "language_info": {
      "name": "python"
    }
  },
  "cells": [
    {
      "cell_type": "markdown",
      "metadata": {
        "id": "view-in-github",
        "colab_type": "text"
      },
      "source": [
        "<a href=\"https://colab.research.google.com/github/MWaqarAhmedGH/Compulsory-Projects/blob/main/bmi_calculator_app.ipynb\" target=\"_parent\"><img src=\"https://colab.research.google.com/assets/colab-badge.svg\" alt=\"Open In Colab\"/></a>"
      ]
    },
    {
      "cell_type": "code",
      "source": [
        "#  bmi_calculator_app.py  (Body Mass Index Calculator)\n",
        "\n",
        "#  Formula:  BMI = Weight (kg) / Height (m)2\n",
        "\n",
        "import streamlit as st  # Streamlit for building the web app\n",
        "\n",
        "# Set the title of the app\n",
        "st.title(\"💪 BMI Calculator\")\n",
        "\n",
        "# Input fields for height (in cm) and weight (in kg)\n",
        "height = st.number_input(\"Enter your height (in cm):\", min_value=50.0, max_value=300.0, step=0.1)\n",
        "weight = st.number_input(\"Enter your weight (in kg):\", min_value=10.0, max_value=300.0, step=0.1)\n",
        "\n",
        "# Button to calculate BMI\n",
        "if st.button(\"Calculate BMI\"):\n",
        "    if height > 0 and weight > 0:\n",
        "        # Convert height from cm to meters\n",
        "        height_in_meters = height / 100\n",
        "\n",
        "        # BMI formula: weight (kg) / height² (m²)\n",
        "        bmi = weight / (height_in_meters ** 2)\n",
        "\n",
        "        # Display BMI result\n",
        "        st.success(f\"Your BMI is: {bmi:.2f}\")\n",
        "\n",
        "        # Provide interpretation based on BMI value\n",
        "        if bmi < 18.5:\n",
        "            st.info(\"You are underweight.\")\n",
        "        elif 18.5 <= bmi < 24.9:\n",
        "            st.success(\"You have a normal weight.\")\n",
        "        elif 25 <= bmi < 29.9:\n",
        "            st.warning(\"You are overweight.\")\n",
        "        else:\n",
        "            st.error(\"You are obese.\")\n",
        "    else:\n",
        "        st.error(\"Please enter valid height and weight values.\")\n",
        "\n",
        "#  ❌ Why It Doesn't Work in Google Colab:\n",
        "#  Colab doesn’t support Streamlit's interactive UI rendering. So this program will not run on Google Colab but it will run on VS Code.\n",
        "\n"
      ],
      "metadata": {
        "colab": {
          "base_uri": "https://localhost:8080/",
          "height": 383
        },
        "collapsed": true,
        "id": "ufXkaMNOVtOz",
        "outputId": "2f0fde74-e89b-442a-8280-1d33b0931ff9"
      },
      "execution_count": 4,
      "outputs": [
        {
          "output_type": "error",
          "ename": "ModuleNotFoundError",
          "evalue": "No module named 'streamlit'",
          "traceback": [
            "\u001b[0;31m---------------------------------------------------------------------------\u001b[0m",
            "\u001b[0;31mModuleNotFoundError\u001b[0m                       Traceback (most recent call last)",
            "\u001b[0;32m<ipython-input-4-a88fd47aee53>\u001b[0m in \u001b[0;36m<cell line: 0>\u001b[0;34m()\u001b[0m\n\u001b[1;32m      3\u001b[0m \u001b[0;31m#  Formula:  BMI = Weight (kg) / Height (m)2\u001b[0m\u001b[0;34m\u001b[0m\u001b[0;34m\u001b[0m\u001b[0m\n\u001b[1;32m      4\u001b[0m \u001b[0;34m\u001b[0m\u001b[0m\n\u001b[0;32m----> 5\u001b[0;31m \u001b[0;32mimport\u001b[0m \u001b[0mstreamlit\u001b[0m \u001b[0;32mas\u001b[0m \u001b[0mst\u001b[0m  \u001b[0;31m# Streamlit for building the web app\u001b[0m\u001b[0;34m\u001b[0m\u001b[0;34m\u001b[0m\u001b[0m\n\u001b[0m\u001b[1;32m      6\u001b[0m \u001b[0;34m\u001b[0m\u001b[0m\n\u001b[1;32m      7\u001b[0m \u001b[0;31m# Set the title of the app\u001b[0m\u001b[0;34m\u001b[0m\u001b[0;34m\u001b[0m\u001b[0m\n",
            "\u001b[0;31mModuleNotFoundError\u001b[0m: No module named 'streamlit'",
            "",
            "\u001b[0;31m---------------------------------------------------------------------------\u001b[0;32m\nNOTE: If your import is failing due to a missing package, you can\nmanually install dependencies using either !pip or !apt.\n\nTo view examples of installing some common dependencies, click the\n\"Open Examples\" button below.\n\u001b[0;31m---------------------------------------------------------------------------\u001b[0m\n"
          ],
          "errorDetails": {
            "actions": [
              {
                "action": "open_url",
                "actionText": "Open Examples",
                "url": "/notebooks/snippets/importing_libraries.ipynb"
              }
            ]
          }
        }
      ]
    }
  ]
}