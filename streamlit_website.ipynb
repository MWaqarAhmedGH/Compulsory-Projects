{
  "nbformat": 4,
  "nbformat_minor": 0,
  "metadata": {
    "colab": {
      "provenance": [],
      "authorship_tag": "ABX9TyPbDQX+0oG/jDPTi1tZG/16",
      "include_colab_link": true
    },
    "kernelspec": {
      "name": "python3",
      "display_name": "Python 3"
    },
    "language_info": {
      "name": "python"
    }
  },
  "cells": [
    {
      "cell_type": "markdown",
      "metadata": {
        "id": "view-in-github",
        "colab_type": "text"
      },
      "source": [
        "<a href=\"https://colab.research.google.com/github/MWaqarAhmedGH/Compulsory-Projects/blob/main/streamlit_website.ipynb\" target=\"_parent\"><img src=\"https://colab.research.google.com/assets/colab-badge.svg\" alt=\"Open In Colab\"/></a>"
      ]
    },
    {
      "cell_type": "code",
      "execution_count": 1,
      "metadata": {
        "colab": {
          "base_uri": "https://localhost:8080/",
          "height": 383
        },
        "collapsed": true,
        "id": "65ewX_9VfHh_",
        "outputId": "7bfbd430-f8c6-4085-bde9-61a82d24f235"
      },
      "outputs": [
        {
          "output_type": "error",
          "ename": "ModuleNotFoundError",
          "evalue": "No module named 'streamlit'",
          "traceback": [
            "\u001b[0;31m---------------------------------------------------------------------------\u001b[0m",
            "\u001b[0;31mModuleNotFoundError\u001b[0m                       Traceback (most recent call last)",
            "\u001b[0;32m<ipython-input-1-855271279978>\u001b[0m in \u001b[0;36m<cell line: 0>\u001b[0;34m()\u001b[0m\n\u001b[1;32m      2\u001b[0m \u001b[0;34m\u001b[0m\u001b[0m\n\u001b[1;32m      3\u001b[0m \u001b[0;31m# ✅ Importing Streamlit library\u001b[0m\u001b[0;34m\u001b[0m\u001b[0;34m\u001b[0m\u001b[0m\n\u001b[0;32m----> 4\u001b[0;31m \u001b[0;32mimport\u001b[0m \u001b[0mstreamlit\u001b[0m \u001b[0;32mas\u001b[0m \u001b[0mst\u001b[0m\u001b[0;34m\u001b[0m\u001b[0;34m\u001b[0m\u001b[0m\n\u001b[0m\u001b[1;32m      5\u001b[0m \u001b[0;34m\u001b[0m\u001b[0m\n\u001b[1;32m      6\u001b[0m \u001b[0;31m# 🏠 Set page title and layout\u001b[0m\u001b[0;34m\u001b[0m\u001b[0;34m\u001b[0m\u001b[0m\n",
            "\u001b[0;31mModuleNotFoundError\u001b[0m: No module named 'streamlit'",
            "",
            "\u001b[0;31m---------------------------------------------------------------------------\u001b[0;32m\nNOTE: If your import is failing due to a missing package, you can\nmanually install dependencies using either !pip or !apt.\n\nTo view examples of installing some common dependencies, click the\n\"Open Examples\" button below.\n\u001b[0;31m---------------------------------------------------------------------------\u001b[0m\n"
          ],
          "errorDetails": {
            "actions": [
              {
                "action": "open_url",
                "actionText": "Open Examples",
                "url": "/notebooks/snippets/importing_libraries.ipynb"
              }
            ]
          }
        }
      ],
      "source": [
        "#  streamlit_website.py\n",
        "\n",
        "# ✅ Importing Streamlit library\n",
        "import streamlit as st\n",
        "\n",
        "# 🏠 Set page title and layout\n",
        "st.set_page_config(page_title=\"My First Streamlit Website\", layout=\"centered\")\n",
        "\n",
        "# 🎉 Displaying the main title of the website\n",
        "st.title(\"Welcome to My Python Website! 🚀\")\n",
        "\n",
        "# 📝 Adding a brief introduction using Markdown\n",
        "st.markdown(\"\"\"\n",
        "This is a simple and responsive website built using **Python + Streamlit**.\n",
        "\n",
        "> With Streamlit, you can turn Python scripts into web apps in minutes!\n",
        "\"\"\")\n",
        "\n",
        "# ➕ Sidebar navigation to switch between sections\n",
        "st.sidebar.title(\"Navigation\")\n",
        "selection = st.sidebar.radio(\"Go to\", [\"Home\", \"About\", \"Contact\"])\n",
        "\n",
        "# 🏠 Home Section\n",
        "if selection == \"Home\":\n",
        "    st.header(\"🏠 Home\")\n",
        "    st.write(\"Welcome to the home page of this mini website built in Streamlit.\")\n",
        "    st.image(\"https://source.unsplash.com/800x400/?python,technology\", caption=\"Python & Tech\")\n",
        "\n",
        "# 🙋‍♀️ About Section\n",
        "elif selection == \"About\":\n",
        "    st.header(\"🙋‍♂️ About Me\")\n",
        "    st.write(\"\"\"\n",
        "    My name is Waqar, and I'm passionate about coding, AI, and building cool projects!\n",
        "    This project was made to explore the power of **Streamlit** for web development.\n",
        "    \"\"\")\n",
        "\n",
        "# 📬 Contact Section\n",
        "elif selection == \"Contact\":\n",
        "    st.header(\"📬 Contact\")\n",
        "    st.write(\"You can reach out to me via:\")\n",
        "    st.markdown(\"\"\"\n",
        "    - 📧 Email: [waqar@example.com](mailto:waqar@example.com)\n",
        "    - 💼 LinkedIn: [linkedin.com/in/waqar](https://linkedin.com)\n",
        "    \"\"\")\n",
        "\n",
        "# 🎨 Footer note\n",
        "st.markdown(\"---\")\n",
        "st.markdown(\"Made with ❤️ using Streamlit\")\n",
        "\n",
        "#  ❌ Why It Doesn't Work in Google Colab:\n",
        "#  Colab doesn’t support Streamlit's interactive UI rendering. So this program will not run on Google Colab but it will run on VS Code.\n"
      ]
    }
  ]
}