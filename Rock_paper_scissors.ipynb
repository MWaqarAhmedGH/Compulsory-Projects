{
  "nbformat": 4,
  "nbformat_minor": 0,
  "metadata": {
    "colab": {
      "provenance": [],
      "authorship_tag": "ABX9TyOt2uP+TZqDF6Arp2o5DbJ9",
      "include_colab_link": true
    },
    "kernelspec": {
      "name": "python3",
      "display_name": "Python 3"
    },
    "language_info": {
      "name": "python"
    }
  },
  "cells": [
    {
      "cell_type": "markdown",
      "metadata": {
        "id": "view-in-github",
        "colab_type": "text"
      },
      "source": [
        "<a href=\"https://colab.research.google.com/github/MWaqarAhmedGH/Compulsory-Projects/blob/main/Rock_paper_scissors.ipynb\" target=\"_parent\"><img src=\"https://colab.research.google.com/assets/colab-badge.svg\" alt=\"Open In Colab\"/></a>"
      ]
    },
    {
      "cell_type": "code",
      "execution_count": 1,
      "metadata": {
        "colab": {
          "base_uri": "https://localhost:8080/"
        },
        "id": "ZTnCP7iEh0KR",
        "outputId": "5a7b7a85-99fe-4f7d-8f0a-b0d366608cd9"
      },
      "outputs": [
        {
          "output_type": "stream",
          "name": "stdout",
          "text": [
            "🎉 Welcome to Rock, Paper, Scissors!\n",
            "Type 'rock' or 'r', 'paper' or 'p', or 'scissors' or 's' to play.\n",
            "Type 'exit' or 'e' to quit the game.\n",
            "Enter your choice: rock\n",
            "Computer chose: rock\n",
            "🤝 It's a tie.\n",
            "------------------------------\n",
            "Enter your choice: paper\n",
            "Computer chose: scissors\n",
            "❌ Computer wins.\n",
            "------------------------------\n",
            "Enter your choice: scissors\n",
            "Computer chose: scissors\n",
            "🤝 It's a tie.\n",
            "------------------------------\n",
            "Enter your choice: r\n",
            "Computer chose: scissors\n",
            "✅ You win.\n",
            "------------------------------\n",
            "Enter your choice: p\n",
            "Computer chose: paper\n",
            "🤝 It's a tie.\n",
            "------------------------------\n",
            "Enter your choice: s\n",
            "Computer chose: scissors\n",
            "🤝 It's a tie.\n",
            "------------------------------\n",
            "Enter your choice: e\n",
            "👋 Exiting the game. Goodbye!\n"
          ]
        }
      ],
      "source": [
        "# Rock_paper_scissors.py\n",
        "# 🎮 Rock, Paper, Scissors Game — Terminal-Based Python Project\n",
        "\n",
        "import random  # 📦 Used to generate the computer's random choice\n",
        "\n",
        "# 🎲 Available choices in the game (full forms only for computer logic)\n",
        "choices = [\"rock\", \"paper\", \"scissors\"]\n",
        "\n",
        "print(\"🎉 Welcome to Rock, Paper, Scissors!\")\n",
        "print(\"Type 'rock' or 'r', 'paper' or 'p', or 'scissors' or 's' to play.\")\n",
        "print(\"Type 'exit' or 'e' to quit the game.\")\n",
        "\n",
        "# 🔁 Infinite loop to keep the game running until the user exits\n",
        "while True:\n",
        "    # ⌨️ Take user input and normalize it\n",
        "    user_input = input(\"Enter your choice: \").strip().lower()\n",
        "\n",
        "    # 🚪 Check if the user wants to exit\n",
        "    if user_input in ['exit', 'e']:\n",
        "        print(\"👋 Exiting the game. Goodbye!\")\n",
        "        break\n",
        "\n",
        "    # 🔄 Map short forms to full choices for consistency\n",
        "    if user_input == 'r':\n",
        "        user_choice = 'rock'\n",
        "    elif user_input == 'p':\n",
        "        user_choice = 'paper'\n",
        "    elif user_input == 's':\n",
        "        user_choice = 'scissors'\n",
        "    else:\n",
        "        user_choice = user_input  # Assume full form if not short form\n",
        "\n",
        "    # ❌ Validate user input\n",
        "    if user_choice not in choices:\n",
        "        print(\"⚠️ Invalid input. Please choose 'rock'/'r', 'paper'/'p', or 'scissors'/'s'.\")\n",
        "        continue\n",
        "\n",
        "    # 🤖 Computer makes a random choice\n",
        "    computer_choice = random.choice(choices)\n",
        "    print(f\"Computer chose: {computer_choice}\")\n",
        "\n",
        "    # 🏆 Determine the winner based on game rules\n",
        "    if user_choice == computer_choice:\n",
        "        print(\"🤝 It's a tie.\")\n",
        "    elif (\n",
        "        (user_choice == \"rock\" and computer_choice == \"scissors\") or\n",
        "        (user_choice == \"paper\" and computer_choice == \"rock\") or\n",
        "        (user_choice == \"scissors\" and computer_choice == \"paper\")\n",
        "    ):\n",
        "        print(\"✅ You win.\")\n",
        "    else:\n",
        "        print(\"❌ Computer wins.\")\n",
        "\n",
        "    # 📏 Separator for readability between rounds\n",
        "    print(\"------------------------------\")\n"
      ]
    }
  ]
}