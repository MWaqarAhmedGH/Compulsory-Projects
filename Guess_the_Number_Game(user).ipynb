{
  "nbformat": 4,
  "nbformat_minor": 0,
  "metadata": {
    "colab": {
      "provenance": [],
      "authorship_tag": "ABX9TyP05rZ3O0jkUJfpIBqQKaWr",
      "include_colab_link": true
    },
    "kernelspec": {
      "name": "python3",
      "display_name": "Python 3"
    },
    "language_info": {
      "name": "python"
    }
  },
  "cells": [
    {
      "cell_type": "markdown",
      "metadata": {
        "id": "view-in-github",
        "colab_type": "text"
      },
      "source": [
        "<a href=\"https://colab.research.google.com/github/MWaqarAhmedGH/Compulsory-Projects/blob/main/Guess_the_Number_Game(user).ipynb\" target=\"_parent\"><img src=\"https://colab.research.google.com/assets/colab-badge.svg\" alt=\"Open In Colab\"/></a>"
      ]
    },
    {
      "cell_type": "code",
      "execution_count": 1,
      "metadata": {
        "colab": {
          "base_uri": "https://localhost:8080/"
        },
        "id": "aJigHSw9dIX5",
        "outputId": "4fe47183-f104-419b-fb3a-1bc74e9817ce"
      },
      "outputs": [
        {
          "output_type": "stream",
          "name": "stdout",
          "text": [
            "🧠 Welcome to the 'Guess the Number' Game!\n",
            "Computer ne ek number socha hai, tumhe usse guess karna hai.\n",
            "🤔 Tumhara guess kya hai? (1 se 100): 40\n",
            "📈 Zyada bada hai! Thoda kam socho...\n",
            "🤔 Tumhara guess kya hai? (1 se 100): 20\n",
            "📉 Zyada chhota hai! Thoda bada socho...\n",
            "🤔 Tumhara guess kya hai? (1 se 100): 30\n",
            "📉 Zyada chhota hai! Thoda bada socho...\n",
            "🤔 Tumhara guess kya hai? (1 se 100): 35\n",
            "📉 Zyada chhota hai! Thoda bada socho...\n",
            "🤔 Tumhara guess kya hai? (1 se 100): 38\n",
            "📉 Zyada chhota hai! Thoda bada socho...\n",
            "🤔 Tumhara guess kya hai? (1 se 100): 39\n",
            "🎉 Tumne sahi number guess kiya! Ye tha 39.\n",
            "🎮 Tumne 6 attempts mein guess kiya!\n"
          ]
        }
      ],
      "source": [
        "#  Guess_the_Number_Game(user).py\n",
        "\n",
        "import random  # Random number generation ke liye\n",
        "\n",
        "# Welcome message\n",
        "print(\"🧠 Welcome to the 'Guess the Number' Game!\")\n",
        "print(\"Computer ne ek number socha hai, tumhe usse guess karna hai.\")\n",
        "\n",
        "# Computer ek random number choose karta hai\n",
        "secret_number = random.randint(1, 100)\n",
        "\n",
        "# User ko guess karne ke liye loop chalayenge\n",
        "attempts = 0  # Count of attempts\n",
        "while True:\n",
        "    # User se number input lene ke liye\n",
        "    guess = int(input(\"🤔 Tumhara guess kya hai? (1 se 100): \"))\n",
        "    attempts += 1  # Har guess par attempt badhata hai\n",
        "\n",
        "    # Agar guess sahi hai, game khatam ho jata hai\n",
        "    if guess == secret_number:\n",
        "        print(f\"🎉 Tumne sahi number guess kiya! Ye tha {secret_number}.\")\n",
        "        print(f\"🎮 Tumne {attempts} attempts mein guess kiya!\")\n",
        "        break  # Loop ko break karte hain jab guess sahi ho\n",
        "\n",
        "    # Agar guess chhota hai, toh computer hint deta hai\n",
        "    elif guess < secret_number:\n",
        "        print(\"📉 Zyada chhota hai! Thoda bada socho...\")\n",
        "\n",
        "    # Agar guess bada hai, toh computer hint deta hai\n",
        "    else:\n",
        "        print(\"📈 Zyada bada hai! Thoda kam socho...\")\n"
      ]
    }
  ]
}