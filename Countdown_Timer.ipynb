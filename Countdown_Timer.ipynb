{
  "nbformat": 4,
  "nbformat_minor": 0,
  "metadata": {
    "colab": {
      "provenance": [],
      "authorship_tag": "ABX9TyMGj6/k/TcUDyR8bH2bR0Vw",
      "include_colab_link": true
    },
    "kernelspec": {
      "name": "python3",
      "display_name": "Python 3"
    },
    "language_info": {
      "name": "python"
    }
  },
  "cells": [
    {
      "cell_type": "markdown",
      "metadata": {
        "id": "view-in-github",
        "colab_type": "text"
      },
      "source": [
        "<a href=\"https://colab.research.google.com/github/MWaqarAhmedGH/Compulsory-Projects/blob/main/Countdown_Timer.ipynb\" target=\"_parent\"><img src=\"https://colab.research.google.com/assets/colab-badge.svg\" alt=\"Open In Colab\"/></a>"
      ]
    },
    {
      "cell_type": "code",
      "execution_count": 1,
      "metadata": {
        "colab": {
          "base_uri": "https://localhost:8080/"
        },
        "id": "H-XrG2YkIPH2",
        "outputId": "9084cf14-62e7-42c1-fbc9-ef8da19f6247"
      },
      "outputs": [
        {
          "output_type": "stream",
          "name": "stdout",
          "text": [
            "Enter time in seconds for countdown: 30\n",
            "Time's up! ⏰\n"
          ]
        }
      ],
      "source": [
        "#  Countdown_Timer.py\n",
        "\n",
        "import time  # Import time module for delay functions\n",
        "\n",
        "# Function to start the countdown\n",
        "def countdown_timer(seconds):\n",
        "    while seconds:\n",
        "        mins, secs = divmod(seconds, 60)  # Convert seconds into minutes and seconds\n",
        "        timer = '{:02d}:{:02d}'.format(mins, secs)  # Format timer as MM:SS\n",
        "        print(timer, end='\\r')  # Print timer on the same line, '\\r' for carriage return\n",
        "        time.sleep(1)  # Delay for 1 second\n",
        "        seconds -= 1  # Decrease the seconds by 1\n",
        "\n",
        "    print(\"Time's up! ⏰\")  # Display when time is up\n",
        "\n",
        "# Get user input for countdown duration (in seconds)\n",
        "try:\n",
        "    seconds_input = int(input(\"Enter time in seconds for countdown: \"))\n",
        "    countdown_timer(seconds_input)  # Start countdown with user input\n",
        "except ValueError:\n",
        "    print(\"Please enter a valid number of seconds.\")  # Error message for invalid input\n"
      ]
    }
  ]
}