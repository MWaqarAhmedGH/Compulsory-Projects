{
  "nbformat": 4,
  "nbformat_minor": 0,
  "metadata": {
    "colab": {
      "provenance": [],
      "authorship_tag": "ABX9TyO8rGYRNBFeg05ROVXSRBKy",
      "include_colab_link": true
    },
    "kernelspec": {
      "name": "python3",
      "display_name": "Python 3"
    },
    "language_info": {
      "name": "python"
    }
  },
  "cells": [
    {
      "cell_type": "markdown",
      "metadata": {
        "id": "view-in-github",
        "colab_type": "text"
      },
      "source": [
        "<a href=\"https://colab.research.google.com/github/MWaqarAhmedGH/Compulsory-Projects/blob/main/Mad_libs.ipynb\" target=\"_parent\"><img src=\"https://colab.research.google.com/assets/colab-badge.svg\" alt=\"Open In Colab\"/></a>"
      ]
    },
    {
      "cell_type": "code",
      "execution_count": 2,
      "metadata": {
        "colab": {
          "base_uri": "https://localhost:8080/"
        },
        "id": "sloP9w7SCUlg",
        "outputId": "dbd30342-22e5-40fe-aaa5-634ec4ce3513"
      },
      "outputs": [
        {
          "output_type": "stream",
          "name": "stdout",
          "text": [
            "Welcome to the Funny Story Mad Libs! Let's create a hilarious story together!\n",
            "Enter a name: Waqar\n",
            "Enter a place: Karachi\n",
            "Enter a verb (action word): Going\n",
            "Enter an adjective: Beautiful\n",
            "Enter an animal: Cow\n",
            "\n",
            "Here is your funny story:\n",
            "One day, Waqar went to Karachi. While walking, he decided to Going.\n",
            "Suddenly, a Beautiful Cow appeared and started dancing. It was the funniest thing ever!\n"
          ]
        }
      ],
      "source": [
        "#  Mad_libs.py (Funny Story Mad Libs)\n",
        "\n",
        "# Yeh program ek funny story banayega based on user inputs\n",
        "\n",
        "# Welcoming the user\n",
        "print(\"Welcome to the Funny Story Mad Libs! Let's create a hilarious story together!\")\n",
        "\n",
        "# Taking inputs from the user\n",
        "# Asking for the name\n",
        "name = input(\"Enter a name: \")\n",
        "\n",
        "# Asking for the place\n",
        "place = input(\"Enter a place: \")\n",
        "\n",
        "# Asking for an action word (verb)\n",
        "verb = input(\"Enter a verb (action word): \")\n",
        "\n",
        "# Asking for an adjective\n",
        "adjective = input(\"Enter an adjective: \")\n",
        "\n",
        "# Asking for an animal\n",
        "animal = input(\"Enter an animal: \")\n",
        "\n",
        "# Now, the story will be created using the inputs\n",
        "# Combining the user inputs to generate the funny story\n",
        "print(f\"\\nHere is your funny story:\")\n",
        "print(f\"One day, {name} went to {place}. While walking, he decided to {verb}.\")\n",
        "print(f\"Suddenly, a {adjective} {animal} appeared and started dancing. It was the funniest thing ever!\")\n"
      ]
    }
  ]
}