{
  "nbformat": 4,
  "nbformat_minor": 0,
  "metadata": {
    "colab": {
      "provenance": [],
      "authorship_tag": "ABX9TyOgG9bJw3AYnJCGXnqPMkHs",
      "include_colab_link": true
    },
    "kernelspec": {
      "name": "python3",
      "display_name": "Python 3"
    },
    "language_info": {
      "name": "python"
    }
  },
  "cells": [
    {
      "cell_type": "markdown",
      "metadata": {
        "id": "view-in-github",
        "colab_type": "text"
      },
      "source": [
        "<a href=\"https://colab.research.google.com/github/MWaqarAhmedGH/Compulsory-Projects/blob/main/Hangman.ipynb\" target=\"_parent\"><img src=\"https://colab.research.google.com/assets/colab-badge.svg\" alt=\"Open In Colab\"/></a>"
      ]
    },
    {
      "cell_type": "code",
      "execution_count": 1,
      "metadata": {
        "colab": {
          "base_uri": "https://localhost:8080/"
        },
        "id": "26gg3UxQmR6C",
        "outputId": "f9d56af2-c96a-4a77-d56d-0eca1672e441"
      },
      "outputs": [
        {
          "output_type": "stream",
          "name": "stdout",
          "text": [
            "🎮 Welcome to Hangman!\n",
            "Guess the letters to reveal the word.\n",
            "Guess a letter: d\n",
            "Wrong! You lost a life. Lives left: 5\n",
            "Word: _ _ _ _ _ _\n",
            "----------------------------\n",
            "Guess a letter: e\n",
            "Wrong! You lost a life. Lives left: 4\n",
            "Word: _ _ _ _ _ _\n",
            "----------------------------\n",
            "Guess a letter: v\n",
            "Wrong! You lost a life. Lives left: 3\n",
            "Word: _ _ _ _ _ _\n",
            "----------------------------\n",
            "Guess a letter: e\n",
            "You already guessed 'e'. Try another letter.\n",
            "Guess a letter: l\n",
            "Correct!\n",
            "Word: l _ _ _ _ _\n",
            "----------------------------\n",
            "Guess a letter: o\n",
            "Correct!\n",
            "Word: l _ _ _ o _\n",
            "----------------------------\n",
            "Guess a letter: p\n",
            "Correct!\n",
            "Word: l _ p _ o p\n",
            "----------------------------\n",
            "Guess a letter: e\n",
            "You already guessed 'e'. Try another letter.\n",
            "Guess a letter: r\n",
            "Wrong! You lost a life. Lives left: 2\n",
            "Word: l _ p _ o p\n",
            "----------------------------\n",
            "Guess a letter: e\n",
            "You already guessed 'e'. Try another letter.\n",
            "Guess a letter: \n",
            "Correct!\n",
            "Word: l _ p _ o p\n",
            "----------------------------\n",
            "Guess a letter: d\n",
            "You already guessed 'd'. Try another letter.\n",
            "Guess a letter: r\n",
            "You already guessed 'r'. Try another letter.\n",
            "Guess a letter: a\n",
            "Correct!\n",
            "Word: l a p _ o p\n",
            "----------------------------\n",
            "Guess a letter: t\n",
            "Correct!\n",
            "Word: l a p t o p\n",
            "----------------------------\n",
            "🎉 Congratulations! You guessed the word: laptop\n"
          ]
        }
      ],
      "source": [
        "#  Hangman.py (Python Project)\n",
        "\n",
        "import random  # Used to randomly select a word from the list\n",
        "\n",
        "# List of words for the game\n",
        "word_list = [\"python\", \"hangman\", \"programming\", \"developer\", \"keyboard\", \"laptop\"]\n",
        "\n",
        "# Select a random word\n",
        "chosen_word = random.choice(word_list)\n",
        "word_length = len(chosen_word)\n",
        "\n",
        "# Game state\n",
        "display = [\"_\"] * word_length  # Hidden letters represented by underscores\n",
        "guessed_letters = []           # Letters already guessed\n",
        "lives = 6                      # Number of incorrect guesses allowed\n",
        "\n",
        "print(\"🎮 Welcome to Hangman!\")\n",
        "print(\"Guess the letters to reveal the word.\")\n",
        "\n",
        "# Game loop\n",
        "while \"_\" in display and lives > 0:\n",
        "    guess = input(\"Guess a letter: \").lower()\n",
        "\n",
        "    # Skip if letter was already guessed\n",
        "    if guess in guessed_letters:\n",
        "        print(f\"You already guessed '{guess}'. Try another letter.\")\n",
        "        continue\n",
        "\n",
        "    guessed_letters.append(guess)\n",
        "\n",
        "    # Reveal correct guesses\n",
        "    if guess in chosen_word:\n",
        "        for i in range(word_length):\n",
        "            if chosen_word[i] == guess:\n",
        "                display[i] = guess\n",
        "        print(\"Correct!\")\n",
        "    else:\n",
        "        lives -= 1\n",
        "        print(f\"Wrong! You lost a life. Lives left: {lives}\")\n",
        "\n",
        "    # Show current progress\n",
        "    print(\"Word: \" + \" \".join(display))\n",
        "    print(\"----------------------------\")\n",
        "\n",
        "# Final game result\n",
        "if \"_\" not in display:\n",
        "    print(\"🎉 Congratulations! You guessed the word:\", chosen_word)\n",
        "else:\n",
        "    print(\"💀 Game Over. The word was:\", chosen_word)"
      ]
    }
  ]
}