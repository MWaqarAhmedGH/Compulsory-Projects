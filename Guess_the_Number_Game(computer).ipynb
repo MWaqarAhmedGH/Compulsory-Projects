{
  "nbformat": 4,
  "nbformat_minor": 0,
  "metadata": {
    "colab": {
      "provenance": [],
      "authorship_tag": "ABX9TyMILnAzHA41IAcM6QS3lJsk",
      "include_colab_link": true
    },
    "kernelspec": {
      "name": "python3",
      "display_name": "Python 3"
    },
    "language_info": {
      "name": "python"
    }
  },
  "cells": [
    {
      "cell_type": "markdown",
      "metadata": {
        "id": "view-in-github",
        "colab_type": "text"
      },
      "source": [
        "<a href=\"https://colab.research.google.com/github/MWaqarAhmedGH/Compulsory-Projects/blob/main/Guess_the_Number_Game(computer).ipynb\" target=\"_parent\"><img src=\"https://colab.research.google.com/assets/colab-badge.svg\" alt=\"Open In Colab\"/></a>"
      ]
    },
    {
      "cell_type": "code",
      "source": [
        "# Guess_the_Number_Game_Colab_Version.py\n",
        "# 🎮 Guess the Number (Computer guesses your number!) - User thinks a number, and computer tries to guess it!\n",
        "\n",
        "# 📢 Introduction message for the user\n",
        "print(\"🎮 Welcome! Think of a number between 1 and 100 — and I'll guess it! 😎\")\n",
        "print(\"👉 Type 'start' or 's' to begin, or 'exit' or 'e' to quit.\")\n",
        "\n",
        "# ⌨️ Wait for user input to either start or exit the game\n",
        "choice = input(\"Your choice: \").strip().lower()\n",
        "\n",
        "# ❌ Exit condition if user doesn't want to play\n",
        "if choice not in ['start', 's']:\n",
        "    print(\"👋 Exiting the game. See you next time!\")\n",
        "else:\n",
        "    # ✅ Game logic starts here\n",
        "    low = 1      # Lower bound of the guessing range\n",
        "    high = 100   # Upper bound of the guessing range\n",
        "\n",
        "    # 🔁 Main guessing loop — continues until the correct number is found\n",
        "    while True:\n",
        "        guess = (low + high) // 2  # 🎯 Computer guesses the middle of the current range\n",
        "        print(f\"My guess is 👉 {guess}\")\n",
        "\n",
        "        # ❓ Ask user whether the guess is too high, too low, or correct\n",
        "        response = input(\"Is it (h)igh, (l)ow, or (c)orrect? \").strip().lower()\n",
        "\n",
        "        if response == 'h':\n",
        "            high = guess - 1  # 🔻 Adjust upper bound if guess was too high\n",
        "        elif response == 'l':\n",
        "            low = guess + 1   # 🔺 Adjust lower bound if guess was too low\n",
        "        elif response == 'c':\n",
        "            print(f\"Yayy! 🎉 I guessed it right — your number is {guess}! 💃\")\n",
        "            break  # 🏁 Game ends successfully\n",
        "        else:\n",
        "            print(\"❗Oops! Please type 'h' for high, 'l' for low, or 'c' for correct. 🙈\")\n"
      ],
      "metadata": {
        "colab": {
          "base_uri": "https://localhost:8080/"
        },
        "id": "YkRI5OsDWctB",
        "outputId": "d2f819cc-a5c2-41e7-854d-95a71ca0657a"
      },
      "execution_count": 3,
      "outputs": [
        {
          "output_type": "stream",
          "name": "stdout",
          "text": [
            "🎮 Welcome! Think of a number between 1 and 100 — and I'll guess it! 😎\n",
            "👉 Type 'start' or 's' to begin, or 'exit' or 'e' to quit.\n",
            "Your choice: s\n",
            "My guess is 👉 50\n",
            "Is it (h)igh, (l)ow, or (c)orrect? l\n",
            "My guess is 👉 75\n",
            "Is it (h)igh, (l)ow, or (c)orrect? h\n",
            "My guess is 👉 62\n",
            "Is it (h)igh, (l)ow, or (c)orrect? h\n",
            "My guess is 👉 56\n",
            "Is it (h)igh, (l)ow, or (c)orrect? h\n",
            "My guess is 👉 53\n",
            "Is it (h)igh, (l)ow, or (c)orrect? l\n",
            "My guess is 👉 54\n",
            "Is it (h)igh, (l)ow, or (c)orrect? l\n",
            "My guess is 👉 55\n",
            "Is it (h)igh, (l)ow, or (c)orrect? c\n",
            "Yayy! 🎉 I guessed it right — your number is 55! 💃\n"
          ]
        }
      ]
    }
  ]
}