{
  "nbformat": 4,
  "nbformat_minor": 0,
  "metadata": {
    "colab": {
      "provenance": [],
      "authorship_tag": "ABX9TyO3iuwsfDYdU0QvORi8jQTZ",
      "include_colab_link": true
    },
    "kernelspec": {
      "name": "python3",
      "display_name": "Python 3"
    },
    "language_info": {
      "name": "python"
    }
  },
  "cells": [
    {
      "cell_type": "markdown",
      "metadata": {
        "id": "view-in-github",
        "colab_type": "text"
      },
      "source": [
        "<a href=\"https://colab.research.google.com/github/MWaqarAhmedGH/Compulsory-Projects/blob/main/password_generator.ipynb\" target=\"_parent\"><img src=\"https://colab.research.google.com/assets/colab-badge.svg\" alt=\"Open In Colab\"/></a>"
      ]
    },
    {
      "cell_type": "code",
      "execution_count": 2,
      "metadata": {
        "colab": {
          "base_uri": "https://localhost:8080/"
        },
        "id": "9Bk8RDBLNUAK",
        "outputId": "01844ea6-e725-40df-ae93-3ec9b39c3998"
      },
      "outputs": [
        {
          "output_type": "stream",
          "name": "stdout",
          "text": [
            "🔐 Enter desired password length: 5\n",
            "✅ Your secure password is: (b8x]\n"
          ]
        }
      ],
      "source": [
        "#  password_generator.py\n",
        "\n",
        "import random  # Random module for selecting random characters\n",
        "import string  # String module for letters, digits, and symbols\n",
        "\n",
        "# Function to generate a strong random password\n",
        "def generate_password(length):\n",
        "    # Combine all possible characters (uppercase, lowercase, digits, punctuation)\n",
        "    all_characters = string.ascii_letters + string.digits + string.punctuation\n",
        "\n",
        "    # Randomly choose characters based on given length\n",
        "    password = ''.join(random.choice(all_characters) for _ in range(length))\n",
        "\n",
        "    return password\n",
        "\n",
        "# Ask user for desired password length\n",
        "try:\n",
        "    user_input = int(input(\"🔐 Enter desired password length: \"))\n",
        "\n",
        "    if user_input < 4:\n",
        "        print(\"❌ Password length should be at least 4 characters.\")\n",
        "    else:\n",
        "        new_password = generate_password(user_input)\n",
        "        print(f\"✅ Your secure password is: {new_password}\")\n",
        "\n",
        "except ValueError:\n",
        "    print(\"⚠️ Please enter a valid number!\")\n"
      ]
    }
  ]
}